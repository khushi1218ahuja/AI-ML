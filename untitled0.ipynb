{
  "nbformat": 4,
  "nbformat_minor": 0,
  "metadata": {
    "colab": {
      "provenance": []
    },
    "kernelspec": {
      "name": "python3",
      "display_name": "Python 3"
    },
    "language_info": {
      "name": "python"
    }
  },
  "cells": [
    {
      "cell_type": "code",
      "execution_count": null,
      "metadata": {
        "id": "tdVCUdIwGhZY"
      },
      "outputs": [],
      "source": [
        "import numpy as np"
      ]
    },
    {
      "cell_type": "code",
      "source": [
        " a = np.array([1,2,3,4])"
      ],
      "metadata": {
        "id": "mpACSpquGq69"
      },
      "execution_count": null,
      "outputs": []
    },
    {
      "cell_type": "code",
      "source": [],
      "metadata": {
        "id": "3H2-72kqG11R"
      },
      "execution_count": null,
      "outputs": []
    },
    {
      "cell_type": "code",
      "source": [
        "b = np.array([1.2,4.4,5,3])"
      ],
      "metadata": {
        "id": "bis-HuWJHIih"
      },
      "execution_count": null,
      "outputs": []
    },
    {
      "cell_type": "code",
      "source": [
        "c= a+b"
      ],
      "metadata": {
        "id": "st1DokmiHP4a"
      },
      "execution_count": null,
      "outputs": []
    },
    {
      "cell_type": "code",
      "source": [
        "print (c)"
      ],
      "metadata": {
        "colab": {
          "base_uri": "https://localhost:8080/"
        },
        "id": "-VM8umliHf21",
        "outputId": "055957d9-b461-48ab-9198-91d816634a1b"
      },
      "execution_count": null,
      "outputs": [
        {
          "output_type": "stream",
          "name": "stdout",
          "text": [
            "[2.2 6.4 8.  7. ]\n"
          ]
        }
      ]
    },
    {
      "cell_type": "code",
      "source": [
        "c.sort()"
      ],
      "metadata": {
        "id": "HTiXz8RfHkrA"
      },
      "execution_count": null,
      "outputs": []
    },
    {
      "cell_type": "code",
      "source": [
        "print(c)"
      ],
      "metadata": {
        "colab": {
          "base_uri": "https://localhost:8080/"
        },
        "id": "21M7iropIB-q",
        "outputId": "38b61f9b-898e-40d3-c127-652149cf3501"
      },
      "execution_count": null,
      "outputs": [
        {
          "output_type": "stream",
          "name": "stdout",
          "text": [
            "[2.2 6.4 7.  8. ]\n"
          ]
        }
      ]
    },
    {
      "cell_type": "markdown",
      "source": [],
      "metadata": {
        "id": "O5ARPBlPJDDh"
      }
    },
    {
      "cell_type": "code",
      "source": [
        "d=np.array([(1,2,3),(4,5,6)])"
      ],
      "metadata": {
        "id": "LSYfqIjFIFCy"
      },
      "execution_count": null,
      "outputs": []
    },
    {
      "cell_type": "code",
      "source": [
        "k=np.array([(2,6,7),(5,7,9)])"
      ],
      "metadata": {
        "id": "HYNt9R93JGfq"
      },
      "execution_count": null,
      "outputs": []
    },
    {
      "cell_type": "code",
      "source": [
        "s=d+k"
      ],
      "metadata": {
        "id": "gW4ui5VQJZUM"
      },
      "execution_count": null,
      "outputs": []
    },
    {
      "cell_type": "code",
      "source": [
        "print(s)\n",
        "\n"
      ],
      "metadata": {
        "colab": {
          "base_uri": "https://localhost:8080/"
        },
        "id": "6SQvBpoNJbQ9",
        "outputId": "7dd0f694-9d1f-4b86-c1c6-2deab5d5e1c7"
      },
      "execution_count": null,
      "outputs": [
        {
          "output_type": "stream",
          "name": "stdout",
          "text": [
            "[[ 3  8 10]\n",
            " [ 9 12 15]]\n"
          ]
        }
      ]
    },
    {
      "cell_type": "code",
      "source": [
        "m=d*k"
      ],
      "metadata": {
        "id": "OyAJUYFhJcnw"
      },
      "execution_count": null,
      "outputs": []
    },
    {
      "cell_type": "code",
      "source": [
        "print(m)"
      ],
      "metadata": {
        "colab": {
          "base_uri": "https://localhost:8080/"
        },
        "id": "eFpECjMiJ-ff",
        "outputId": "d7918652-a57d-475f-d811-a2e29cb49baa"
      },
      "execution_count": null,
      "outputs": [
        {
          "output_type": "stream",
          "name": "stdout",
          "text": [
            "[[ 2 12 21]\n",
            " [20 35 54]]\n"
          ]
        }
      ]
    },
    {
      "cell_type": "code",
      "source": [
        "g= np.zeros((3,2))\n"
      ],
      "metadata": {
        "id": "CY9ER-k8KAW3"
      },
      "execution_count": null,
      "outputs": []
    },
    {
      "cell_type": "code",
      "source": [
        "\n",
        "g"
      ],
      "metadata": {
        "colab": {
          "base_uri": "https://localhost:8080/"
        },
        "id": "U6Rb57ruKb5H",
        "outputId": "e50a7024-773a-4065-b346-a4d14ff9c0da"
      },
      "execution_count": null,
      "outputs": [
        {
          "output_type": "execute_result",
          "data": {
            "text/plain": [
              "array([[0., 0.],\n",
              "       [0., 0.],\n",
              "       [0., 0.]])"
            ]
          },
          "metadata": {},
          "execution_count": 31
        }
      ]
    },
    {
      "cell_type": "code",
      "source": [
        "h=np.ones((2,3))"
      ],
      "metadata": {
        "id": "V9YhkktzKn3i"
      },
      "execution_count": null,
      "outputs": []
    },
    {
      "cell_type": "code",
      "source": [
        "h"
      ],
      "metadata": {
        "colab": {
          "base_uri": "https://localhost:8080/"
        },
        "id": "fyL9QSzoLMhw",
        "outputId": "cd527e8b-4247-4427-c06b-833a6fcc27b0"
      },
      "execution_count": null,
      "outputs": [
        {
          "output_type": "execute_result",
          "data": {
            "text/plain": [
              "array([[1., 1., 1.],\n",
              "       [1., 1., 1.]])"
            ]
          },
          "metadata": {},
          "execution_count": 33
        }
      ]
    },
    {
      "cell_type": "code",
      "source": [
        "i=np.arange(10,20,5)"
      ],
      "metadata": {
        "id": "FJNGq7g4LNdg"
      },
      "execution_count": null,
      "outputs": []
    },
    {
      "cell_type": "code",
      "source": [
        "\n",
        "i\n",
        "\n"
      ],
      "metadata": {
        "colab": {
          "base_uri": "https://localhost:8080/"
        },
        "id": "BgcS65nQLUcp",
        "outputId": "2bb0862f-54a0-49fe-e227-19aea95b652e"
      },
      "execution_count": null,
      "outputs": [
        {
          "output_type": "execute_result",
          "data": {
            "text/plain": [
              "array([10, 15])"
            ]
          },
          "metadata": {},
          "execution_count": 37
        }
      ]
    },
    {
      "cell_type": "code",
      "source": [
        "#it will exclude the ending number that is 20 so it will add +5 in numbers\n"
      ],
      "metadata": {
        "id": "FDnj2HrwLV3G"
      },
      "execution_count": null,
      "outputs": []
    },
    {
      "cell_type": "code",
      "source": [
        "j=np.linspace(0,5,8)"
      ],
      "metadata": {
        "id": "38vla8TmL6iR"
      },
      "execution_count": null,
      "outputs": []
    },
    {
      "cell_type": "code",
      "source": [
        "j"
      ],
      "metadata": {
        "colab": {
          "base_uri": "https://localhost:8080/"
        },
        "id": "tD_VHhFxMJBK",
        "outputId": "22f40e47-73c1-45ad-f95c-ec9aff4ebee3"
      },
      "execution_count": null,
      "outputs": [
        {
          "output_type": "execute_result",
          "data": {
            "text/plain": [
              "array([0.        , 0.71428571, 1.42857143, 2.14285714, 2.85714286,\n",
              "       3.57142857, 4.28571429, 5.        ])"
            ]
          },
          "metadata": {},
          "execution_count": 39
        }
      ]
    },
    {
      "cell_type": "code",
      "source": [
        "j=np.linspace(7,5,4)"
      ],
      "metadata": {
        "id": "ur1UZmBpMJm_"
      },
      "execution_count": null,
      "outputs": []
    },
    {
      "cell_type": "code",
      "source": [
        "j"
      ],
      "metadata": {
        "colab": {
          "base_uri": "https://localhost:8080/"
        },
        "id": "esteSplwMYG7",
        "outputId": "4a75dd70-e793-40eb-e389-823c8d9a341a"
      },
      "execution_count": null,
      "outputs": [
        {
          "output_type": "execute_result",
          "data": {
            "text/plain": [
              "array([7.        , 6.33333333, 5.66666667, 5.        ])"
            ]
          },
          "metadata": {},
          "execution_count": 41
        }
      ]
    },
    {
      "cell_type": "code",
      "source": [
        "#first and second number is included last number is the number of result and numbers are the range of first 2 numbers\n"
      ],
      "metadata": {
        "id": "XXxnFWpvMYr4"
      },
      "execution_count": null,
      "outputs": []
    },
    {
      "cell_type": "code",
      "source": [
        "k=np.full((2,3),8)"
      ],
      "metadata": {
        "id": "GpLM8wETMrRG"
      },
      "execution_count": null,
      "outputs": []
    },
    {
      "cell_type": "code",
      "source": [
        "k"
      ],
      "metadata": {
        "colab": {
          "base_uri": "https://localhost:8080/"
        },
        "id": "vFB0cnj8M0eD",
        "outputId": "13fff13a-ae31-434e-d1d4-650c4743aa26"
      },
      "execution_count": null,
      "outputs": [
        {
          "output_type": "execute_result",
          "data": {
            "text/plain": [
              "array([[8, 8, 8],\n",
              "       [8, 8, 8]])"
            ]
          },
          "metadata": {},
          "execution_count": 43
        }
      ]
    },
    {
      "cell_type": "code",
      "source": [
        "#first braket is the order of matrix and the last number is the value which is filled in the matrix"
      ],
      "metadata": {
        "id": "jj9g0VhRM1Di"
      },
      "execution_count": null,
      "outputs": []
    },
    {
      "cell_type": "code",
      "source": [
        "l=np.eye(8)\n"
      ],
      "metadata": {
        "id": "3Ky_O4d6NHL-"
      },
      "execution_count": null,
      "outputs": []
    },
    {
      "cell_type": "code",
      "source": [
        "l"
      ],
      "metadata": {
        "colab": {
          "base_uri": "https://localhost:8080/"
        },
        "id": "k6EnOleiNXP6",
        "outputId": "30f0d592-265f-4819-9f2e-1559d915c716"
      },
      "execution_count": null,
      "outputs": [
        {
          "output_type": "execute_result",
          "data": {
            "text/plain": [
              "array([[1., 0., 0., 0., 0., 0., 0., 0.],\n",
              "       [0., 1., 0., 0., 0., 0., 0., 0.],\n",
              "       [0., 0., 1., 0., 0., 0., 0., 0.],\n",
              "       [0., 0., 0., 1., 0., 0., 0., 0.],\n",
              "       [0., 0., 0., 0., 1., 0., 0., 0.],\n",
              "       [0., 0., 0., 0., 0., 1., 0., 0.],\n",
              "       [0., 0., 0., 0., 0., 0., 1., 0.],\n",
              "       [0., 0., 0., 0., 0., 0., 0., 1.]])"
            ]
          },
          "metadata": {},
          "execution_count": 46
        }
      ]
    },
    {
      "cell_type": "code",
      "source": [
        "#it will generate identity matrix and square matrix is formed of the ordered given by you"
      ],
      "metadata": {
        "id": "L7pXpgLFNa9Y"
      },
      "execution_count": null,
      "outputs": []
    },
    {
      "cell_type": "code",
      "source": [
        "n=np.random.random((4,5))"
      ],
      "metadata": {
        "id": "HVCqYHkTOBPZ"
      },
      "execution_count": null,
      "outputs": []
    },
    {
      "cell_type": "code",
      "source": [
        "n"
      ],
      "metadata": {
        "colab": {
          "base_uri": "https://localhost:8080/"
        },
        "id": "_TntkSkzOFup",
        "outputId": "23ded7e0-3713-479a-9ac2-9abd2d2c50e6"
      },
      "execution_count": null,
      "outputs": [
        {
          "output_type": "execute_result",
          "data": {
            "text/plain": [
              "array([[0.18759105, 0.97899516, 0.98949686, 0.67405801, 0.95883072],\n",
              "       [0.8629122 , 0.28824265, 0.05703963, 0.42057246, 0.39805032],\n",
              "       [0.38566878, 0.63506354, 0.1700444 , 0.40805742, 0.96695119],\n",
              "       [0.94316079, 0.42687879, 0.81213572, 0.26541204, 0.67187028]])"
            ]
          },
          "metadata": {},
          "execution_count": 49
        }
      ]
    },
    {
      "cell_type": "code",
      "source": [
        "n"
      ],
      "metadata": {
        "colab": {
          "base_uri": "https://localhost:8080/"
        },
        "id": "fTgoMjSNOLIL",
        "outputId": "6bfa3d73-21fe-44b5-87d2-4df256e1b50a"
      },
      "execution_count": null,
      "outputs": [
        {
          "output_type": "execute_result",
          "data": {
            "text/plain": [
              "array([[0.18759105, 0.97899516, 0.98949686, 0.67405801, 0.95883072],\n",
              "       [0.8629122 , 0.28824265, 0.05703963, 0.42057246, 0.39805032],\n",
              "       [0.38566878, 0.63506354, 0.1700444 , 0.40805742, 0.96695119],\n",
              "       [0.94316079, 0.42687879, 0.81213572, 0.26541204, 0.67187028]])"
            ]
          },
          "metadata": {},
          "execution_count": 50
        }
      ]
    },
    {
      "cell_type": "code",
      "source": [
        "n"
      ],
      "metadata": {
        "colab": {
          "base_uri": "https://localhost:8080/"
        },
        "id": "gFSNX2RWONdt",
        "outputId": "59a7ecd1-5c06-4f4a-ba51-ae054d1752c5"
      },
      "execution_count": null,
      "outputs": [
        {
          "output_type": "execute_result",
          "data": {
            "text/plain": [
              "array([[0.18759105, 0.97899516, 0.98949686, 0.67405801, 0.95883072],\n",
              "       [0.8629122 , 0.28824265, 0.05703963, 0.42057246, 0.39805032],\n",
              "       [0.38566878, 0.63506354, 0.1700444 , 0.40805742, 0.96695119],\n",
              "       [0.94316079, 0.42687879, 0.81213572, 0.26541204, 0.67187028]])"
            ]
          },
          "metadata": {},
          "execution_count": 51
        }
      ]
    },
    {
      "cell_type": "code",
      "source": [],
      "metadata": {
        "id": "tQ-nEP7_OSYi"
      },
      "execution_count": null,
      "outputs": []
    }
  ]
}